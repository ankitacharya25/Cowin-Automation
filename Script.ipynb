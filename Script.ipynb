{
 "cells": [
  {
   "cell_type": "code",
   "execution_count": 1,
   "source": [
    "import requests\r\n",
    "import json"
   ],
   "outputs": [],
   "metadata": {}
  },
  {
   "cell_type": "code",
   "execution_count": 2,
   "source": [
    "print(\"Starting search for Covid vaccine slots!\")"
   ],
   "outputs": [
    {
     "output_type": "stream",
     "name": "stdout",
     "text": [
      "Starting search for Covid vaccine slots!\n"
     ]
    }
   ],
   "metadata": {}
  },
  {
   "cell_type": "code",
   "execution_count": 3,
   "source": [
    "age = 18\r\n",
    "PIN = \"769012\"\r\n",
    "print_flag = 'Y'\r\n",
    "counter = 0\r\n",
    "dates = [\"05-08-2021\", \"06-08-2021\", \"07-08-2021\", \"08-08-2021\"]\r\n",
    "URL = \"https://cdn-api.co-vin.in/api/v2/appointment/sessions/public/calendarByPin?pincode={}&date={}\".format(PIN, dates)\r\n",
    "header = {'User-Agent': 'Mozilla/5.0 (Windows NT 6.1; WOW64) AppleWebKit/537.36 (KHTML, like Gecko) Chrome/56.0.2924.76 Safari/537.36'}"
   ],
   "outputs": [],
   "metadata": {}
  },
  {
   "cell_type": "code",
   "execution_count": 4,
   "source": [
    "result = requests.get( URL, headers = header)\r\n",
    "#print(result.text)"
   ],
   "outputs": [],
   "metadata": {}
  },
  {
   "cell_type": "code",
   "execution_count": 5,
   "source": [
    "if result.ok:\r\n",
    "    response_json = result.json()\r\n",
    "flag = False\r\n",
    "if response_json[\"centers\"]:            \r\n",
    "    if(print_flag.lower() =='y'):\r\n",
    "        for center in response_json[\"centers\"]:\r\n",
    "            print(center)"
   ],
   "outputs": [
    {
     "output_type": "stream",
     "name": "stdout",
     "text": [
      "{'center_id': 603778, 'name': 'Patia UCHC', 'address': 'Patia Station Road', 'state_name': 'Odisha', 'district_name': 'Khurda', 'block_name': 'Bhubaneswar MC', 'pincode': 751024, 'lat': 20, 'long': 85, 'from': '15:00:00', 'to': '18:00:00', 'fee_type': 'Free', 'sessions': [{'session_id': 'dd69d55e-e03f-40c2-8658-3cdc95779c8d', 'date': '07-08-2021', 'available_capacity': 0, 'min_age_limit': 18, 'max_age_limit': 44, 'allow_all_age': False, 'vaccine': 'COVAXIN', 'slots': ['03:00PM-05:00PM', '05:00PM-06:00PM'], 'available_capacity_dose1': 0, 'available_capacity_dose2': 0}, {'session_id': 'b50c9933-16ba-4ec5-9ef1-3ff868d90990', 'date': '07-08-2021', 'available_capacity': 0, 'min_age_limit': 45, 'allow_all_age': False, 'vaccine': 'COVAXIN', 'slots': ['03:00PM-05:00PM', '05:00PM-06:00PM'], 'available_capacity_dose1': 0, 'available_capacity_dose2': 0}]}\n",
      "{'center_id': 694825, 'name': 'Patia UCHC Bhubaneswar (18-44)', 'address': 'Patia Bhubaneswar', 'state_name': 'Odisha', 'district_name': 'Khurda', 'block_name': 'Bhubaneswar MC', 'pincode': 751024, 'lat': 20, 'long': 85, 'from': '09:00:00', 'to': '13:00:00', 'fee_type': 'Free', 'sessions': [{'session_id': 'e7aa6376-1b51-4a4c-962c-b37c80505aae', 'date': '07-08-2021', 'available_capacity': 0, 'min_age_limit': 18, 'max_age_limit': 44, 'allow_all_age': False, 'vaccine': 'COVAXIN', 'slots': ['09:00AM-10:00AM', '10:00AM-11:00AM', '11:00AM-12:00PM', '12:00PM-01:00PM'], 'available_capacity_dose1': 0, 'available_capacity_dose2': 0}]}\n",
      "{'center_id': 693362, 'name': 'UPHC Sikharchandi (18-44yrs)', 'address': 'Sikharchandi Nagar Bhubaneswar', 'state_name': 'Odisha', 'district_name': 'Khurda', 'block_name': 'Bhubaneswar MC', 'pincode': 751024, 'lat': 20, 'long': 85, 'from': '09:00:00', 'to': '13:00:00', 'fee_type': 'Free', 'sessions': [{'session_id': 'ed175373-f1f1-4a7e-bcaa-ba795601e80f', 'date': '07-08-2021', 'available_capacity': 0, 'min_age_limit': 18, 'max_age_limit': 44, 'allow_all_age': False, 'vaccine': 'COVAXIN', 'slots': ['09:00AM-10:00AM', '10:00AM-11:00AM', '11:00AM-12:00PM', '12:00PM-01:00PM'], 'available_capacity_dose1': 0, 'available_capacity_dose2': 0}, {'session_id': '41ea7351-c7cf-4ff6-9994-8636fd29a163', 'date': '09-08-2021', 'available_capacity': 0, 'min_age_limit': 18, 'max_age_limit': 44, 'allow_all_age': False, 'vaccine': 'COVAXIN', 'slots': ['09:00AM-10:00AM', '10:00AM-11:00AM', '11:00AM-12:00PM', '12:00PM-01:00PM'], 'available_capacity_dose1': 0, 'available_capacity_dose2': 0}, {'session_id': 'd0628b6b-79b9-43c3-a22a-4824f77f3660', 'date': '10-08-2021', 'available_capacity': 0, 'min_age_limit': 18, 'max_age_limit': 44, 'allow_all_age': False, 'vaccine': 'COVAXIN', 'slots': ['09:00AM-10:00AM', '10:00AM-11:00AM', '11:00AM-12:00PM', '12:00PM-01:00PM'], 'available_capacity_dose1': 0, 'available_capacity_dose2': 0}, {'session_id': '5a561417-7d51-4104-853a-8cff261ae463', 'date': '11-08-2021', 'available_capacity': 0, 'min_age_limit': 18, 'max_age_limit': 44, 'allow_all_age': False, 'vaccine': 'COVAXIN', 'slots': ['09:00AM-10:00AM', '10:00AM-11:00AM', '11:00AM-12:00PM', '12:00PM-01:00PM'], 'available_capacity_dose1': 0, 'available_capacity_dose2': 0}]}\n",
      "{'center_id': 661105, 'name': 'Sikharchandi UPHC', 'address': 'UPHC Sikharchandi Sikharchandi Nagar Bhubaneswar', 'state_name': 'Odisha', 'district_name': 'Khurda', 'block_name': 'Bhubaneswar MC', 'pincode': 751024, 'lat': 20, 'long': 85, 'from': '15:00:00', 'to': '18:00:00', 'fee_type': 'Free', 'sessions': [{'session_id': '7b8166d4-d271-4648-999d-0c3abbbdbc63', 'date': '07-08-2021', 'available_capacity': 0, 'min_age_limit': 18, 'max_age_limit': 44, 'allow_all_age': False, 'vaccine': 'COVAXIN', 'slots': ['03:00PM-05:00PM', '05:00PM-06:00PM'], 'available_capacity_dose1': 0, 'available_capacity_dose2': 0}, {'session_id': '875f9fcd-bd09-429b-a7db-7b8737f8f60c', 'date': '07-08-2021', 'available_capacity': 0, 'min_age_limit': 45, 'allow_all_age': False, 'vaccine': 'COVAXIN', 'slots': ['03:00PM-05:00PM', '05:00PM-06:00PM'], 'available_capacity_dose1': 0, 'available_capacity_dose2': 0}, {'session_id': '9a9d63c5-7932-486e-9d9f-d1faf9047de6', 'date': '09-08-2021', 'available_capacity': 0, 'min_age_limit': 18, 'max_age_limit': 44, 'allow_all_age': False, 'vaccine': 'COVAXIN', 'slots': ['03:00PM-05:00PM', '05:00PM-06:00PM'], 'available_capacity_dose1': 0, 'available_capacity_dose2': 0}, {'session_id': 'ddfd66ce-4eb0-43f3-93ba-2065f6e5a0e6', 'date': '09-08-2021', 'available_capacity': 0, 'min_age_limit': 45, 'allow_all_age': False, 'vaccine': 'COVAXIN', 'slots': ['03:00PM-05:00PM', '05:00PM-06:00PM'], 'available_capacity_dose1': 0, 'available_capacity_dose2': 0}, {'session_id': 'c2ed2751-ab45-4795-8e98-666e95019165', 'date': '10-08-2021', 'available_capacity': 0, 'min_age_limit': 45, 'allow_all_age': False, 'vaccine': 'COVAXIN', 'slots': ['03:00PM-05:00PM', '05:00PM-06:00PM'], 'available_capacity_dose1': 0, 'available_capacity_dose2': 0}, {'session_id': '78110b56-7098-4374-b434-dfae4f3892d6', 'date': '10-08-2021', 'available_capacity': 0, 'min_age_limit': 18, 'max_age_limit': 44, 'allow_all_age': False, 'vaccine': 'COVAXIN', 'slots': ['03:00PM-05:00PM', '05:00PM-06:00PM'], 'available_capacity_dose1': 0, 'available_capacity_dose2': 0}, {'session_id': '9cc17b3b-b733-423e-8be1-78157236b334', 'date': '11-08-2021', 'available_capacity': 4, 'min_age_limit': 45, 'allow_all_age': False, 'vaccine': 'COVAXIN', 'slots': ['03:00PM-05:00PM', '05:00PM-06:00PM'], 'available_capacity_dose1': 0, 'available_capacity_dose2': 4}, {'session_id': '24868599-5b33-49ae-b27e-b0b69af0154c', 'date': '11-08-2021', 'available_capacity': 0, 'min_age_limit': 18, 'max_age_limit': 44, 'allow_all_age': False, 'vaccine': 'COVAXIN', 'slots': ['03:00PM-05:00PM', '05:00PM-06:00PM'], 'available_capacity_dose1': 0, 'available_capacity_dose2': 0}]}\n"
     ]
    }
   ],
   "metadata": {}
  },
  {
   "cell_type": "code",
   "execution_count": 6,
   "source": [
    "for session in center[\"sessions\"]:\r\n",
    "  if (session[\"min_age_limit\"] >= age and session[\"available_capacity\"] == 0 ):\r\n",
    "    counter += 1\r\n",
    "    print('Pincode: ' + PIN)\r\n",
    "    print(f\"Available on date: {session['date']}\")\r\n",
    "    #print(\"\\t\", center[\"name\"])\r\n",
    "    print(\"\\t\", center[\"name\"])\r\n",
    "    print(\"\\t\", center[\"block_name\"])\r\n",
    "    print(\"\\t Slots available:\", \", \".join(session['slots']))\r\n",
    "    if(session[\"vaccine\"] != ''):\r\n",
    "      print(\"\\t Vaccine type: \", session[\"vaccine\"])\r\n",
    "    print(\"\\t Price: \", center[\"fee_type\"])\r\n",
    "    print(\"\\t Availablity : \", session[\"available_capacity\"])\r\n",
    "    print(\"\\n\")\r\n",
    "    if(session[\"available_capacity\"] == 0):\r\n",
    "      print(\"\\tSorry! Running low on capacity.\")"
   ],
   "outputs": [
    {
     "output_type": "stream",
     "name": "stdout",
     "text": [
      "Pincode: 751024\n",
      "Available on date: 07-08-2021\n",
      "\t Sikharchandi UPHC\n",
      "\t Bhubaneswar MC\n",
      "\t Slots available: 03:00PM-05:00PM, 05:00PM-06:00PM\n",
      "\t Vaccine type:  COVAXIN\n",
      "\t Price:  Free\n",
      "\t Availablity :  0\n",
      "\n",
      "\n",
      "\tSorry! Running low on capacity.\n",
      "Pincode: 751024\n",
      "Available on date: 07-08-2021\n",
      "\t Sikharchandi UPHC\n",
      "\t Bhubaneswar MC\n",
      "\t Slots available: 03:00PM-05:00PM, 05:00PM-06:00PM\n",
      "\t Vaccine type:  COVAXIN\n",
      "\t Price:  Free\n",
      "\t Availablity :  0\n",
      "\n",
      "\n",
      "\tSorry! Running low on capacity.\n",
      "Pincode: 751024\n",
      "Available on date: 09-08-2021\n",
      "\t Sikharchandi UPHC\n",
      "\t Bhubaneswar MC\n",
      "\t Slots available: 03:00PM-05:00PM, 05:00PM-06:00PM\n",
      "\t Vaccine type:  COVAXIN\n",
      "\t Price:  Free\n",
      "\t Availablity :  0\n",
      "\n",
      "\n",
      "\tSorry! Running low on capacity.\n",
      "Pincode: 751024\n",
      "Available on date: 09-08-2021\n",
      "\t Sikharchandi UPHC\n",
      "\t Bhubaneswar MC\n",
      "\t Slots available: 03:00PM-05:00PM, 05:00PM-06:00PM\n",
      "\t Vaccine type:  COVAXIN\n",
      "\t Price:  Free\n",
      "\t Availablity :  0\n",
      "\n",
      "\n",
      "\tSorry! Running low on capacity.\n",
      "Pincode: 751024\n",
      "Available on date: 10-08-2021\n",
      "\t Sikharchandi UPHC\n",
      "\t Bhubaneswar MC\n",
      "\t Slots available: 03:00PM-05:00PM, 05:00PM-06:00PM\n",
      "\t Vaccine type:  COVAXIN\n",
      "\t Price:  Free\n",
      "\t Availablity :  0\n",
      "\n",
      "\n",
      "\tSorry! Running low on capacity.\n",
      "Pincode: 751024\n",
      "Available on date: 10-08-2021\n",
      "\t Sikharchandi UPHC\n",
      "\t Bhubaneswar MC\n",
      "\t Slots available: 03:00PM-05:00PM, 05:00PM-06:00PM\n",
      "\t Vaccine type:  COVAXIN\n",
      "\t Price:  Free\n",
      "\t Availablity :  0\n",
      "\n",
      "\n",
      "\tSorry! Running low on capacity.\n",
      "Pincode: 751024\n",
      "Available on date: 11-08-2021\n",
      "\t Sikharchandi UPHC\n",
      "\t Bhubaneswar MC\n",
      "\t Slots available: 03:00PM-05:00PM, 05:00PM-06:00PM\n",
      "\t Vaccine type:  COVAXIN\n",
      "\t Price:  Free\n",
      "\t Availablity :  0\n",
      "\n",
      "\n",
      "\tSorry! Running low on capacity.\n"
     ]
    }
   ],
   "metadata": {}
  },
  {
   "cell_type": "code",
   "execution_count": 7,
   "source": [
    "if(counter == 0):\r\n",
    "    print(\"No Vaccination slot available!\")\r\n",
    "else:\r\n",
    "    print(\"Search Completed!\")"
   ],
   "outputs": [
    {
     "output_type": "stream",
     "name": "stdout",
     "text": [
      "Search Completed!\n"
     ]
    }
   ],
   "metadata": {}
  }
 ],
 "metadata": {
  "orig_nbformat": 4,
  "language_info": {
   "name": "python",
   "version": "3.8.2",
   "mimetype": "text/x-python",
   "codemirror_mode": {
    "name": "ipython",
    "version": 3
   },
   "pygments_lexer": "ipython3",
   "nbconvert_exporter": "python",
   "file_extension": ".py"
  },
  "kernelspec": {
   "name": "python3",
   "display_name": "Python 3.8.2 64-bit"
  },
  "interpreter": {
   "hash": "58337ba4531fbb29faf8b175aa152f7a18cfcf682ce314a07331038047d21a52"
  }
 },
 "nbformat": 4,
 "nbformat_minor": 2
}